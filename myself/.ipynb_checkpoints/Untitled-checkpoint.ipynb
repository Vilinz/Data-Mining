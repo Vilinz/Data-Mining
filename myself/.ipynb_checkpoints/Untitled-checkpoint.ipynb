{
 "cells": [
  {
   "cell_type": "code",
   "execution_count": 60,
   "metadata": {},
   "outputs": [],
   "source": [
    "import numpy as np\n",
    "from numpy import *\n",
    "import pandas as pd\n",
    "from torch.utils.data import Dataset, DataLoader\n",
    "import torch\n",
    "from sklearn.preprocessing import StandardScaler\n",
    "import matplotlib.pyplot as plt"
   ]
  },
  {
   "cell_type": "code",
   "execution_count": 61,
   "metadata": {},
   "outputs": [],
   "source": [
    "def sigmoid(inX):\n",
    "    return 1.0 / (1 + exp(-inX))\n"
   ]
  },
  {
   "cell_type": "code",
   "execution_count": 62,
   "metadata": {},
   "outputs": [],
   "source": [
    "class PointDataset(Dataset):\n",
    "    def __init__(self):\n",
    "        scaler = StandardScaler()\n",
    "        self.frame = pd.read_csv('./data/trainSet.csv')\n",
    "        self.frame.insert(0, 'constant', 1)\n",
    "        self.labels = self.frame.label\n",
    "        # print(self.labels)\n",
    "        self.frame = self.frame.drop(columns=['label'])\n",
    "        self.frame = scaler.fit_transform(self.frame.astype(float))\n",
    "        \n",
    "    def __len__(self):\n",
    "        return len(self.labels)\n",
    "    \n",
    "    def __getitem__(self, idx):\n",
    "        # print(self.frame.loc[idx,:])\n",
    "        #x = torch.Tensor(np.array([self.frame.loc[idx,:]])).reshape(33)\n",
    "        x = torch.Tensor(self.frame[idx]).reshape(33)\n",
    "        y = torch.Tensor(np.array([self.labels[idx]])).reshape(1)\n",
    "        sample = {'features':x,'labels':y}\n",
    "        return sample"
   ]
  },
  {
   "cell_type": "code",
   "execution_count": 63,
   "metadata": {},
   "outputs": [],
   "source": [
    "def test(weight):\n",
    "    train = pd.read_csv('./data/trainSet.csv')\n",
    "    train.insert(0, 'constant', 1)\n",
    "    labels = np.array(train.label).reshape(200000)\n",
    "    features = train.drop(columns=['label'])\n",
    "    features = np.array(features)\n",
    "    acc = 0\n",
    "    test = []\n",
    "    weight = np.array(weight).reshape(33)\n",
    "    for i in range(200000):\n",
    "        t = sigmoid(np.sum(np.dot(weight,features[i])))\n",
    "        if t >= 0.5:\n",
    "            test.append(1)\n",
    "        else:\n",
    "            test.append(0)\n",
    "    for i in range(200000):\n",
    "        if test[i] == labels[i]:\n",
    "            acc += 1\n",
    "    print('acc', acc/len(labels))\n",
    "    return acc/len(labels)"
   ]
  },
  {
   "cell_type": "code",
   "execution_count": 64,
   "metadata": {},
   "outputs": [],
   "source": [
    "def show_plot(y):\n",
    "    x = np.array(range(len(y)))\n",
    "    y = np.array(y)\n",
    "    plt.plot(x, y, c='b')\n",
    "    plt.axis()\n",
    "    plt.title('accuracy')\n",
    "    plt.xlabel('Epoch')\n",
    "    plt.ylabel('accuracy')\n",
    "    plt.show()"
   ]
  },
  {
   "cell_type": "code",
   "execution_count": 67,
   "metadata": {},
   "outputs": [],
   "source": [
    "def train(trainloader):\n",
    "    epoches = 20\n",
    "    lr = 0.001\n",
    "    weight = np.ones((33,1))\n",
    "    acc = []\n",
    "    for i in range(epoches):\n",
    "        print('epoche', i)\n",
    "        for j, data in enumerate(trainloader):\n",
    "            features = np.array(data['features'])\n",
    "            label = np.array(data['labels'])\n",
    "            output = sigmoid(np.dot(features,weight))\n",
    "            error = label - output\n",
    "            weight = weight + lr*np.dot(features.T,error)/len(features)\n",
    "        acc.append(test(weight))\n",
    "    show_plot(acc)\n",
    "    return weight\n",
    "     "
   ]
  },
  {
   "cell_type": "code",
   "execution_count": 68,
   "metadata": {},
   "outputs": [
    {
     "name": "stdout",
     "output_type": "stream",
     "text": [
      "epoche 0\n",
      "acc 0.50162\n",
      "epoche 1\n",
      "acc 0.50162\n",
      "epoche 2\n",
      "acc 0.50162\n",
      "epoche 3\n",
      "acc 0.502095\n",
      "epoche 4\n",
      "acc 0.502415\n",
      "epoche 5\n",
      "acc 0.502535\n",
      "epoche 6\n",
      "acc 0.502815\n",
      "epoche 7\n",
      "acc 0.503185\n",
      "epoche 8\n",
      "acc 0.503435\n",
      "epoche 9\n",
      "acc 0.504175\n",
      "epoche 10\n",
      "acc 0.506055\n",
      "epoche 11\n",
      "acc 0.506665\n",
      "epoche 12\n",
      "acc 0.506625\n",
      "epoche 13\n",
      "acc 0.506545\n",
      "epoche 14\n",
      "acc 0.506535\n",
      "epoche 15\n",
      "acc 0.505695\n",
      "epoche 16\n",
      "acc 0.50438\n",
      "epoche 17\n",
      "acc 0.503675\n",
      "epoche 18\n",
      "acc 0.505645\n",
      "epoche 19\n",
      "acc 0.5097\n"
     ]
    },
    {
     "data": {
      "image/png": "[encoded data removed]",
      "text/plain": [
       "<Figure size 432x288 with 1 Axes>"
      ]
     },
     "metadata": {
      "needs_background": "light"
     },
     "output_type": "display_data"
    },
    {
     "data": {
      "text/plain": [
       "array([[ 1.        ],\n",
       "       [-0.30041179],\n",
       "       [ 0.09115177],\n",
       "       [ 0.03246932],\n",
       "       [ 0.24525428],\n",
       "       [-0.03763628],\n",
       "       [ 0.22339077],\n",
       "       [ 0.12754757],\n",
       "       [ 0.04338089],\n",
       "       [ 0.03778776],\n",
       "       [ 0.1145276 ],\n",
       "       [ 0.01493464],\n",
       "       [ 0.05099021],\n",
       "       [-0.04132022],\n",
       "       [ 0.03773484],\n",
       "       [-0.17857567],\n",
       "       [-0.10671477],\n",
       "       [ 0.29334729],\n",
       "       [-0.0927918 ],\n",
       "       [ 0.01505479],\n",
       "       [ 0.00266806],\n",
       "       [ 0.11890513],\n",
       "       [ 0.13617536],\n",
       "       [ 0.0095136 ],\n",
       "       [-0.05421944],\n",
       "       [ 0.38120974],\n",
       "       [ 0.05886942],\n",
       "       [-0.0927918 ],\n",
       "       [ 0.04116202],\n",
       "       [-0.05073397],\n",
       "       [ 0.09115177],\n",
       "       [-0.2189099 ],\n",
       "       [ 0.4390178 ]])"
      ]
     },
     "execution_count": 68,
     "metadata": {},
     "output_type": "execute_result"
    }
   ],
   "source": [
    "trainset = PointDataset()\n",
    "trainloader = DataLoader(dataset=trainset,batch_size=100,shuffle=True)\n",
    "train(trainloader)"
   ]
  },
  {
   "cell_type": "code",
   "execution_count": null,
   "metadata": {},
   "outputs": [],
   "source": []
  },
  {
   "cell_type": "code",
   "execution_count": null,
   "metadata": {},
   "outputs": [],
   "source": []
  }
 ],
 "metadata": {
  "kernelspec": {
   "display_name": "Python 3",
   "language": "python",
   "name": "python3"
  },
  "language_info": {
   "codemirror_mode": {
    "name": "ipython",
    "version": 3
   },
   "file_extension": ".py",
   "mimetype": "text/x-python",
   "name": "python",
   "nbconvert_exporter": "python",
   "pygments_lexer": "ipython3",
   "version": "3.7.1"
  }
 },
 "nbformat": 4,
 "nbformat_minor": 2
}
